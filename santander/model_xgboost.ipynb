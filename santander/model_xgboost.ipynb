{
 "cells": [
  {
   "cell_type": "code",
   "execution_count": 2,
   "metadata": {
    "collapsed": false
   },
   "outputs": [],
   "source": [
    "from sklearn import metrics\n",
    "from datetime import datetime\n",
    "from src.average_precision import calculate_score\n",
    "import numpy as np\n",
    "import pickle\n",
    "from src.average_precision import calculate_delta\n",
    "import pandas as pd\n",
    "from src.average_precision import convert_to_names\n",
    "from sklearn.model_selection import train_test_split, StratifiedKFold, GridSearchCV\n",
    "from sklearn import metrics\n",
    "import xgboost\n",
    "from xgboost.sklearn import XGBClassifier\n",
    "%matplotlib inline\n",
    "import seaborn\n",
    "from sklearn.externals import joblib"
   ]
  },
  {
   "cell_type": "code",
   "execution_count": 3,
   "metadata": {
    "collapsed": false
   },
   "outputs": [],
   "source": [
    "X = pd.read_pickle(\"data/multiclass_training.pickle\")"
   ]
  },
  {
   "cell_type": "code",
   "execution_count": 4,
   "metadata": {
    "collapsed": false
   },
   "outputs": [],
   "source": [
    "label_encoder = pickle.load(open(\"models/label_encoder.pickle\", \"rb\"))"
   ]
  },
  {
   "cell_type": "code",
   "execution_count": 5,
   "metadata": {
    "collapsed": false
   },
   "outputs": [],
   "source": [
    "cols_not_for_training = [\"fecha_dato\",\"ncodpers\", \"target\", \"product\"]\n",
    "X_train, X_test, y_train, y_test = train_test_split(\n",
    "                                    X.drop(cols_not_for_training, axis=1), X[\"target\"], test_size=0.20, random_state=42)"
   ]
  },
  {
   "cell_type": "code",
   "execution_count": 6,
   "metadata": {
    "collapsed": false,
    "scrolled": true
   },
   "outputs": [
    {
     "name": "stdout",
     "output_type": "stream",
     "text": [
      "Fitting 3 folds for each of 81 candidates, totalling 243 fits\n",
      "[CV] max_depth=6, subsample=0.7, colsample_bytree=0.3, colsample_bylevel=0.3 \n"
     ]
    },
    {
     "name": "stderr",
     "output_type": "stream",
     "text": [
      "/home/valentin/bin/anaconda3/lib/python3.5/site-packages/sklearn/model_selection/_split.py:581: Warning: The least populated class in y has only 2 members, which is too few. The minimum number of groups for any class cannot be less than n_splits=3.\n",
      "  % (min_groups, self.n_splits)), Warning)\n"
     ]
    },
    {
     "name": "stdout",
     "output_type": "stream",
     "text": [
      "[CV]  max_depth=6, subsample=0.7, colsample_bytree=0.3, colsample_bylevel=0.3, score=0.531430, total=  19.4s\n",
      "[CV] max_depth=6, subsample=0.7, colsample_bytree=0.3, colsample_bylevel=0.3 \n"
     ]
    },
    {
     "name": "stderr",
     "output_type": "stream",
     "text": [
      "[Parallel(n_jobs=1)]: Done   1 out of   1 | elapsed:   20.2s remaining:    0.0s\n"
     ]
    },
    {
     "name": "stdout",
     "output_type": "stream",
     "text": [
      "[CV]  max_depth=6, subsample=0.7, colsample_bytree=0.3, colsample_bylevel=0.3, score=0.527427, total=  20.5s\n",
      "[CV] max_depth=6, subsample=0.7, colsample_bytree=0.3, colsample_bylevel=0.3 \n"
     ]
    },
    {
     "name": "stderr",
     "output_type": "stream",
     "text": [
      "[Parallel(n_jobs=1)]: Done   2 out of   2 | elapsed:   42.0s remaining:    0.0s\n"
     ]
    },
    {
     "name": "stdout",
     "output_type": "stream",
     "text": [
      "[CV]  max_depth=6, subsample=0.7, colsample_bytree=0.3, colsample_bylevel=0.3, score=0.539681, total=  42.3s\n",
      "[CV] max_depth=6, subsample=0.8, colsample_bytree=0.3, colsample_bylevel=0.3 \n",
      "[CV]  max_depth=6, subsample=0.8, colsample_bytree=0.3, colsample_bylevel=0.3, score=0.529624, total=  29.6s\n",
      "[CV] max_depth=6, subsample=0.8, colsample_bytree=0.3, colsample_bylevel=0.3 \n",
      "[CV]  max_depth=6, subsample=0.8, colsample_bytree=0.3, colsample_bylevel=0.3, score=0.526113, total=  25.5s\n",
      "[CV] max_depth=6, subsample=0.8, colsample_bytree=0.3, colsample_bylevel=0.3 \n",
      "[CV]  max_depth=6, subsample=0.8, colsample_bytree=0.3, colsample_bylevel=0.3, score=0.537134, total=  24.0s\n",
      "[CV] max_depth=6, subsample=1.0, colsample_bytree=0.3, colsample_bylevel=0.3 \n",
      "[CV]  max_depth=6, subsample=1.0, colsample_bytree=0.3, colsample_bylevel=0.3, score=0.529706, total=  25.7s\n",
      "[CV] max_depth=6, subsample=1.0, colsample_bytree=0.3, colsample_bylevel=0.3 \n",
      "[CV]  max_depth=6, subsample=1.0, colsample_bytree=0.3, colsample_bylevel=0.3, score=0.538019, total=  25.9s\n",
      "[CV] max_depth=6, subsample=1.0, colsample_bytree=0.3, colsample_bylevel=0.3 \n",
      "[CV]  max_depth=6, subsample=1.0, colsample_bytree=0.3, colsample_bylevel=0.3, score=0.539763, total=  36.7s\n",
      "[CV] max_depth=8, subsample=0.7, colsample_bytree=0.3, colsample_bylevel=0.3 \n",
      "[CV]  max_depth=8, subsample=0.7, colsample_bytree=0.3, colsample_bylevel=0.3, score=0.534466, total=  42.8s\n",
      "[CV] max_depth=8, subsample=0.7, colsample_bytree=0.3, colsample_bylevel=0.3 \n",
      "[CV]  max_depth=8, subsample=0.7, colsample_bytree=0.3, colsample_bylevel=0.3, score=0.534160, total=  19.3s\n",
      "[CV] max_depth=8, subsample=0.7, colsample_bytree=0.3, colsample_bylevel=0.3 \n",
      "[CV]  max_depth=8, subsample=0.7, colsample_bytree=0.3, colsample_bylevel=0.3, score=0.541160, total=  26.1s\n",
      "[CV] max_depth=8, subsample=0.8, colsample_bytree=0.3, colsample_bylevel=0.3 \n",
      "[CV]  max_depth=8, subsample=0.8, colsample_bytree=0.3, colsample_bylevel=0.3, score=0.529050, total=  30.4s\n",
      "[CV] max_depth=8, subsample=0.8, colsample_bytree=0.3, colsample_bylevel=0.3 \n",
      "[CV]  max_depth=8, subsample=0.8, colsample_bytree=0.3, colsample_bylevel=0.3, score=0.531943, total=  24.0s\n",
      "[CV] max_depth=8, subsample=0.8, colsample_bytree=0.3, colsample_bylevel=0.3 \n",
      "[CV]  max_depth=8, subsample=0.8, colsample_bytree=0.3, colsample_bylevel=0.3, score=0.539763, total=  21.1s\n",
      "[CV] max_depth=8, subsample=1.0, colsample_bytree=0.3, colsample_bylevel=0.3 \n",
      "[CV]  max_depth=8, subsample=1.0, colsample_bytree=0.3, colsample_bylevel=0.3, score=0.532825, total=  22.4s\n",
      "[CV] max_depth=8, subsample=1.0, colsample_bytree=0.3, colsample_bylevel=0.3 \n",
      "[CV]  max_depth=8, subsample=1.0, colsample_bytree=0.3, colsample_bylevel=0.3, score=0.530711, total=  22.2s\n",
      "[CV] max_depth=8, subsample=1.0, colsample_bytree=0.3, colsample_bylevel=0.3 \n",
      "[CV]  max_depth=8, subsample=1.0, colsample_bytree=0.3, colsample_bylevel=0.3, score=0.542803, total=  38.1s\n",
      "[CV] max_depth=10, subsample=0.7, colsample_bytree=0.3, colsample_bylevel=0.3 \n",
      "[CV]  max_depth=10, subsample=0.7, colsample_bytree=0.3, colsample_bylevel=0.3, score=0.532907, total=  25.4s\n",
      "[CV] max_depth=10, subsample=0.7, colsample_bytree=0.3, colsample_bylevel=0.3 \n",
      "[CV]  max_depth=10, subsample=0.7, colsample_bytree=0.3, colsample_bylevel=0.3, score=0.525866, total=  20.5s\n",
      "[CV] max_depth=10, subsample=0.7, colsample_bytree=0.3, colsample_bylevel=0.3 \n",
      "[CV]  max_depth=10, subsample=0.7, colsample_bytree=0.3, colsample_bylevel=0.3, score=0.534095, total=  22.2s\n",
      "[CV] max_depth=10, subsample=0.8, colsample_bytree=0.3, colsample_bylevel=0.3 \n",
      "[CV]  max_depth=10, subsample=0.8, colsample_bytree=0.3, colsample_bylevel=0.3, score=0.532989, total=  39.2s\n",
      "[CV] max_depth=10, subsample=0.8, colsample_bytree=0.3, colsample_bylevel=0.3 \n",
      "[CV]  max_depth=10, subsample=0.8, colsample_bytree=0.3, colsample_bylevel=0.3, score=0.532353, total=  22.3s\n",
      "[CV] max_depth=10, subsample=0.8, colsample_bytree=0.3, colsample_bylevel=0.3 \n",
      "[CV]  max_depth=10, subsample=0.8, colsample_bytree=0.3, colsample_bylevel=0.3, score=0.542146, total=  20.9s\n",
      "[CV] max_depth=10, subsample=1.0, colsample_bytree=0.3, colsample_bylevel=0.3 \n",
      "[CV]  max_depth=10, subsample=1.0, colsample_bytree=0.3, colsample_bylevel=0.3, score=0.538076, total=  17.9s\n",
      "[CV] max_depth=10, subsample=1.0, colsample_bytree=0.3, colsample_bylevel=0.3 \n",
      "[CV]  max_depth=10, subsample=1.0, colsample_bytree=0.3, colsample_bylevel=0.3, score=0.533831, total=  17.3s\n",
      "[CV] max_depth=10, subsample=1.0, colsample_bytree=0.3, colsample_bylevel=0.3 \n",
      "[CV]  max_depth=10, subsample=1.0, colsample_bytree=0.3, colsample_bylevel=0.3, score=0.540914, total=  18.4s\n",
      "[CV] max_depth=6, subsample=0.7, colsample_bytree=0.5, colsample_bylevel=0.3 \n",
      "[CV]  max_depth=6, subsample=0.7, colsample_bytree=0.5, colsample_bylevel=0.3, score=0.544559, total=  22.0s\n",
      "[CV] max_depth=6, subsample=0.7, colsample_bytree=0.5, colsample_bylevel=0.3 \n",
      "[CV]  max_depth=6, subsample=0.7, colsample_bytree=0.5, colsample_bylevel=0.3, score=0.545246, total=  21.1s\n",
      "[CV] max_depth=6, subsample=0.7, colsample_bytree=0.5, colsample_bylevel=0.3 \n",
      "[CV]  max_depth=6, subsample=0.7, colsample_bytree=0.5, colsample_bylevel=0.3, score=0.547979, total=  20.2s\n",
      "[CV] max_depth=6, subsample=0.8, colsample_bytree=0.5, colsample_bylevel=0.3 \n",
      "[CV]  max_depth=6, subsample=0.8, colsample_bytree=0.5, colsample_bylevel=0.3, score=0.540949, total=  20.1s\n",
      "[CV] max_depth=6, subsample=0.8, colsample_bytree=0.5, colsample_bylevel=0.3 \n",
      "[CV]  max_depth=6, subsample=0.8, colsample_bytree=0.5, colsample_bylevel=0.3, score=0.543521, total=  39.7s\n",
      "[CV] max_depth=6, subsample=0.8, colsample_bytree=0.5, colsample_bylevel=0.3 \n",
      "[CV]  max_depth=6, subsample=0.8, colsample_bytree=0.5, colsample_bylevel=0.3, score=0.547897, total=  38.5s\n",
      "[CV] max_depth=6, subsample=1.0, colsample_bytree=0.5, colsample_bylevel=0.3 \n",
      "[CV]  max_depth=6, subsample=1.0, colsample_bytree=0.5, colsample_bylevel=0.3, score=0.544067, total=  37.4s\n",
      "[CV] max_depth=6, subsample=1.0, colsample_bytree=0.5, colsample_bylevel=0.3 \n",
      "[CV]  max_depth=6, subsample=1.0, colsample_bytree=0.5, colsample_bylevel=0.3, score=0.544671, total=  19.2s\n",
      "[CV] max_depth=6, subsample=1.0, colsample_bytree=0.5, colsample_bylevel=0.3 \n",
      "[CV]  max_depth=6, subsample=1.0, colsample_bytree=0.5, colsample_bylevel=0.3, score=0.546336, total=  37.9s\n",
      "[CV] max_depth=8, subsample=0.7, colsample_bytree=0.5, colsample_bylevel=0.3 \n",
      "[CV]  max_depth=8, subsample=0.7, colsample_bytree=0.5, colsample_bylevel=0.3, score=0.540620, total=  22.3s\n",
      "[CV] max_depth=8, subsample=0.7, colsample_bytree=0.5, colsample_bylevel=0.3 \n",
      "[CV]  max_depth=8, subsample=0.7, colsample_bytree=0.5, colsample_bylevel=0.3, score=0.540236, total=  24.4s\n",
      "[CV] max_depth=8, subsample=0.7, colsample_bytree=0.5, colsample_bylevel=0.3 \n",
      "[CV]  max_depth=8, subsample=0.7, colsample_bytree=0.5, colsample_bylevel=0.3, score=0.543460, total=  23.0s\n",
      "[CV] max_depth=8, subsample=0.8, colsample_bytree=0.5, colsample_bylevel=0.3 \n",
      "[CV]  max_depth=8, subsample=0.8, colsample_bytree=0.5, colsample_bylevel=0.3, score=0.542344, total=  42.8s\n",
      "[CV] max_depth=8, subsample=0.8, colsample_bytree=0.5, colsample_bylevel=0.3 \n",
      "[CV]  max_depth=8, subsample=0.8, colsample_bytree=0.5, colsample_bylevel=0.3, score=0.540729, total=  37.6s\n",
      "[CV] max_depth=8, subsample=0.8, colsample_bytree=0.5, colsample_bylevel=0.3 \n",
      "[CV]  max_depth=8, subsample=0.8, colsample_bytree=0.5, colsample_bylevel=0.3, score=0.546172, total=  22.5s\n",
      "[CV] max_depth=8, subsample=1.0, colsample_bytree=0.5, colsample_bylevel=0.3 \n",
      "[CV]  max_depth=8, subsample=1.0, colsample_bytree=0.5, colsample_bylevel=0.3, score=0.541277, total=  21.6s\n",
      "[CV] max_depth=8, subsample=1.0, colsample_bytree=0.5, colsample_bylevel=0.3 \n",
      "[CV]  max_depth=8, subsample=1.0, colsample_bytree=0.5, colsample_bylevel=0.3, score=0.541550, total=  21.9s\n",
      "[CV] max_depth=8, subsample=1.0, colsample_bytree=0.5, colsample_bylevel=0.3 \n",
      "[CV]  max_depth=8, subsample=1.0, colsample_bytree=0.5, colsample_bylevel=0.3, score=0.546993, total=  38.3s\n",
      "[CV] max_depth=10, subsample=0.7, colsample_bytree=0.5, colsample_bylevel=0.3 \n",
      "[CV]  max_depth=10, subsample=0.7, colsample_bytree=0.5, colsample_bylevel=0.3, score=0.535451, total=  30.3s\n",
      "[CV] max_depth=10, subsample=0.7, colsample_bytree=0.5, colsample_bylevel=0.3 \n",
      "[CV]  max_depth=10, subsample=0.7, colsample_bytree=0.5, colsample_bylevel=0.3, score=0.537116, total=  28.2s\n",
      "[CV] max_depth=10, subsample=0.7, colsample_bytree=0.5, colsample_bylevel=0.3 \n",
      "[CV]  max_depth=10, subsample=0.7, colsample_bytree=0.5, colsample_bylevel=0.3, score=0.542803, total=  27.7s\n",
      "[CV] max_depth=10, subsample=0.8, colsample_bytree=0.5, colsample_bylevel=0.3 \n",
      "[CV]  max_depth=10, subsample=0.8, colsample_bytree=0.5, colsample_bylevel=0.3, score=0.540949, total=  27.6s\n",
      "[CV] max_depth=10, subsample=0.8, colsample_bytree=0.5, colsample_bylevel=0.3 \n",
      "[CV]  max_depth=10, subsample=0.8, colsample_bytree=0.5, colsample_bylevel=0.3, score=0.539415, total=  27.7s\n",
      "[CV] max_depth=10, subsample=0.8, colsample_bytree=0.5, colsample_bylevel=0.3 \n",
      "[CV]  max_depth=10, subsample=0.8, colsample_bytree=0.5, colsample_bylevel=0.3, score=0.539846, total=  27.9s\n",
      "[CV] max_depth=10, subsample=1.0, colsample_bytree=0.5, colsample_bylevel=0.3 \n",
      "[CV]  max_depth=10, subsample=1.0, colsample_bytree=0.5, colsample_bylevel=0.3, score=0.539554, total=  29.7s\n",
      "[CV] max_depth=10, subsample=1.0, colsample_bytree=0.5, colsample_bylevel=0.3 \n",
      "[CV]  max_depth=10, subsample=1.0, colsample_bytree=0.5, colsample_bylevel=0.3, score=0.537362, total=  43.5s\n",
      "[CV] max_depth=10, subsample=1.0, colsample_bytree=0.5, colsample_bylevel=0.3 \n",
      "[CV]  max_depth=10, subsample=1.0, colsample_bytree=0.5, colsample_bylevel=0.3, score=0.542392, total=  45.0s\n",
      "[CV] max_depth=6, subsample=0.7, colsample_bytree=0.6, colsample_bylevel=0.3 \n",
      "[CV]  max_depth=6, subsample=0.7, colsample_bytree=0.6, colsample_bylevel=0.3, score=0.544231, total=  29.7s\n",
      "[CV] max_depth=6, subsample=0.7, colsample_bytree=0.6, colsample_bylevel=0.3 \n",
      "[CV]  max_depth=6, subsample=0.7, colsample_bytree=0.6, colsample_bylevel=0.3, score=0.544014, total=  52.9s\n",
      "[CV] max_depth=6, subsample=0.7, colsample_bytree=0.6, colsample_bylevel=0.3 \n",
      "[CV]  max_depth=6, subsample=0.7, colsample_bytree=0.6, colsample_bylevel=0.3, score=0.547979, total=  52.2s\n",
      "[CV] max_depth=6, subsample=0.8, colsample_bytree=0.6, colsample_bylevel=0.3 \n",
      "[CV]  max_depth=6, subsample=0.8, colsample_bytree=0.6, colsample_bylevel=0.3, score=0.544067, total=  53.2s\n",
      "[CV] max_depth=6, subsample=0.8, colsample_bytree=0.6, colsample_bylevel=0.3 \n",
      "[CV]  max_depth=6, subsample=0.8, colsample_bytree=0.6, colsample_bylevel=0.3, score=0.543850, total=  28.8s\n",
      "[CV] max_depth=6, subsample=0.8, colsample_bytree=0.6, colsample_bylevel=0.3 \n",
      "[CV]  max_depth=6, subsample=0.8, colsample_bytree=0.6, colsample_bylevel=0.3, score=0.549211, total=  30.7s\n",
      "[CV] max_depth=6, subsample=1.0, colsample_bytree=0.6, colsample_bylevel=0.3 \n",
      "[CV]  max_depth=6, subsample=1.0, colsample_bytree=0.6, colsample_bylevel=0.3, score=0.547021, total=  45.7s\n",
      "[CV] max_depth=6, subsample=1.0, colsample_bytree=0.6, colsample_bylevel=0.3 \n",
      "[CV]  max_depth=6, subsample=1.0, colsample_bytree=0.6, colsample_bylevel=0.3, score=0.544096, total=  45.3s\n",
      "[CV] max_depth=6, subsample=1.0, colsample_bytree=0.6, colsample_bylevel=0.3 \n",
      "[CV]  max_depth=6, subsample=1.0, colsample_bytree=0.6, colsample_bylevel=0.3, score=0.548472, total=  44.6s\n",
      "[CV] max_depth=8, subsample=0.7, colsample_bytree=0.6, colsample_bylevel=0.3 \n",
      "[CV]  max_depth=8, subsample=0.7, colsample_bytree=0.6, colsample_bylevel=0.3, score=0.538979, total=  48.4s\n",
      "[CV] max_depth=8, subsample=0.7, colsample_bytree=0.6, colsample_bylevel=0.3 \n",
      "[CV]  max_depth=8, subsample=0.7, colsample_bytree=0.6, colsample_bylevel=0.3, score=0.538758, total=  49.6s\n",
      "[CV] max_depth=8, subsample=0.7, colsample_bytree=0.6, colsample_bylevel=0.3 \n",
      "[CV]  max_depth=8, subsample=0.7, colsample_bytree=0.6, colsample_bylevel=0.3, score=0.545104, total=  47.4s\n",
      "[CV] max_depth=8, subsample=0.8, colsample_bytree=0.6, colsample_bylevel=0.3 \n",
      "[CV]  max_depth=8, subsample=0.8, colsample_bytree=0.6, colsample_bylevel=0.3, score=0.537748, total=  36.4s\n",
      "[CV] max_depth=8, subsample=0.8, colsample_bytree=0.6, colsample_bylevel=0.3 \n",
      "[CV]  max_depth=8, subsample=0.8, colsample_bytree=0.6, colsample_bylevel=0.3, score=0.541140, total=  33.5s\n",
      "[CV] max_depth=8, subsample=0.8, colsample_bytree=0.6, colsample_bylevel=0.3 \n",
      "[CV]  max_depth=8, subsample=0.8, colsample_bytree=0.6, colsample_bylevel=0.3, score=0.544775, total=  28.4s\n",
      "[CV] max_depth=8, subsample=1.0, colsample_bytree=0.6, colsample_bylevel=0.3 \n",
      "[CV]  max_depth=8, subsample=1.0, colsample_bytree=0.6, colsample_bylevel=0.3, score=0.540456, total=  26.1s\n",
      "[CV] max_depth=8, subsample=1.0, colsample_bytree=0.6, colsample_bylevel=0.3 \n",
      "[CV]  max_depth=8, subsample=1.0, colsample_bytree=0.6, colsample_bylevel=0.3, score=0.540729, total=  24.1s\n",
      "[CV] max_depth=8, subsample=1.0, colsample_bytree=0.6, colsample_bylevel=0.3 \n",
      "[CV]  max_depth=8, subsample=1.0, colsample_bytree=0.6, colsample_bylevel=0.3, score=0.544035, total=  26.8s\n",
      "[CV] max_depth=10, subsample=0.7, colsample_bytree=0.6, colsample_bylevel=0.3 \n",
      "[CV]  max_depth=10, subsample=0.7, colsample_bytree=0.6, colsample_bylevel=0.3, score=0.530199, total=  28.1s\n",
      "[CV] max_depth=10, subsample=0.7, colsample_bytree=0.6, colsample_bylevel=0.3 \n",
      "[CV]  max_depth=10, subsample=0.7, colsample_bytree=0.6, colsample_bylevel=0.3, score=0.533667, total=  26.9s\n",
      "[CV] max_depth=10, subsample=0.7, colsample_bytree=0.6, colsample_bylevel=0.3 \n",
      "[CV]  max_depth=10, subsample=0.7, colsample_bytree=0.6, colsample_bylevel=0.3, score=0.537381, total=  28.2s\n",
      "[CV] max_depth=10, subsample=0.8, colsample_bytree=0.6, colsample_bylevel=0.3 \n",
      "[CV]  max_depth=10, subsample=0.8, colsample_bytree=0.6, colsample_bylevel=0.3, score=0.531922, total=  26.7s\n",
      "[CV] max_depth=10, subsample=0.8, colsample_bytree=0.6, colsample_bylevel=0.3 \n",
      "[CV]  max_depth=10, subsample=0.8, colsample_bytree=0.6, colsample_bylevel=0.3, score=0.534406, total=  29.5s\n",
      "[CV] max_depth=10, subsample=0.8, colsample_bytree=0.6, colsample_bylevel=0.3 \n"
     ]
    },
    {
     "ename": "KeyboardInterrupt",
     "evalue": "",
     "output_type": "error",
     "traceback": [
      "\u001b[0;31m---------------------------------------------------------------------------\u001b[0m",
      "\u001b[0;31mKeyboardInterrupt\u001b[0m                         Traceback (most recent call last)",
      "\u001b[0;32m<ipython-input-6-452556885158>\u001b[0m in \u001b[0;36m<module>\u001b[0;34m()\u001b[0m\n\u001b[1;32m     18\u001b[0m \u001b[0;34m\u001b[0m\u001b[0m\n\u001b[1;32m     19\u001b[0m \u001b[0mgrid_search\u001b[0m \u001b[0;34m=\u001b[0m \u001b[0mGridSearchCV\u001b[0m\u001b[0;34m(\u001b[0m\u001b[0mmodel\u001b[0m\u001b[0;34m,\u001b[0m \u001b[0mparam_grid\u001b[0m\u001b[0;34m,\u001b[0m \u001b[0mscoring\u001b[0m\u001b[0;34m=\u001b[0m\u001b[0;34m\"accuracy\"\u001b[0m\u001b[0;34m,\u001b[0m \u001b[0mcv\u001b[0m\u001b[0;34m=\u001b[0m\u001b[0;36m3\u001b[0m\u001b[0;34m,\u001b[0m \u001b[0mverbose\u001b[0m\u001b[0;34m=\u001b[0m\u001b[0;36m3\u001b[0m\u001b[0;34m)\u001b[0m\u001b[0;34m\u001b[0m\u001b[0m\n\u001b[0;32m---> 20\u001b[0;31m \u001b[0mcv_results\u001b[0m \u001b[0;34m=\u001b[0m \u001b[0mgrid_search\u001b[0m\u001b[0;34m.\u001b[0m\u001b[0mfit\u001b[0m\u001b[0;34m(\u001b[0m\u001b[0mX_train\u001b[0m\u001b[0;34m,\u001b[0m \u001b[0my_train\u001b[0m\u001b[0;34m)\u001b[0m\u001b[0;34m\u001b[0m\u001b[0m\n\u001b[0m",
      "\u001b[0;32m/home/valentin/bin/anaconda3/lib/python3.5/site-packages/sklearn/model_selection/_search.py\u001b[0m in \u001b[0;36mfit\u001b[0;34m(self, X, y, groups)\u001b[0m\n\u001b[1;32m    943\u001b[0m             \u001b[0mtrain\u001b[0m\u001b[0;34m/\u001b[0m\u001b[0mtest\u001b[0m \u001b[0mset\u001b[0m\u001b[0;34m.\u001b[0m\u001b[0;34m\u001b[0m\u001b[0m\n\u001b[1;32m    944\u001b[0m         \"\"\"\n\u001b[0;32m--> 945\u001b[0;31m         \u001b[0;32mreturn\u001b[0m \u001b[0mself\u001b[0m\u001b[0;34m.\u001b[0m\u001b[0m_fit\u001b[0m\u001b[0;34m(\u001b[0m\u001b[0mX\u001b[0m\u001b[0;34m,\u001b[0m \u001b[0my\u001b[0m\u001b[0;34m,\u001b[0m \u001b[0mgroups\u001b[0m\u001b[0;34m,\u001b[0m \u001b[0mParameterGrid\u001b[0m\u001b[0;34m(\u001b[0m\u001b[0mself\u001b[0m\u001b[0;34m.\u001b[0m\u001b[0mparam_grid\u001b[0m\u001b[0;34m)\u001b[0m\u001b[0;34m)\u001b[0m\u001b[0;34m\u001b[0m\u001b[0m\n\u001b[0m\u001b[1;32m    946\u001b[0m \u001b[0;34m\u001b[0m\u001b[0m\n\u001b[1;32m    947\u001b[0m \u001b[0;34m\u001b[0m\u001b[0m\n",
      "\u001b[0;32m/home/valentin/bin/anaconda3/lib/python3.5/site-packages/sklearn/model_selection/_search.py\u001b[0m in \u001b[0;36m_fit\u001b[0;34m(self, X, y, groups, parameter_iterable)\u001b[0m\n\u001b[1;32m    562\u001b[0m                                   \u001b[0mreturn_times\u001b[0m\u001b[0;34m=\u001b[0m\u001b[0;32mTrue\u001b[0m\u001b[0;34m,\u001b[0m \u001b[0mreturn_parameters\u001b[0m\u001b[0;34m=\u001b[0m\u001b[0;32mTrue\u001b[0m\u001b[0;34m,\u001b[0m\u001b[0;34m\u001b[0m\u001b[0m\n\u001b[1;32m    563\u001b[0m                                   error_score=self.error_score)\n\u001b[0;32m--> 564\u001b[0;31m           \u001b[0;32mfor\u001b[0m \u001b[0mparameters\u001b[0m \u001b[0;32min\u001b[0m \u001b[0mparameter_iterable\u001b[0m\u001b[0;34m\u001b[0m\u001b[0m\n\u001b[0m\u001b[1;32m    565\u001b[0m           for train, test in cv_iter)\n\u001b[1;32m    566\u001b[0m \u001b[0;34m\u001b[0m\u001b[0m\n",
      "\u001b[0;32m/home/valentin/bin/anaconda3/lib/python3.5/site-packages/sklearn/externals/joblib/parallel.py\u001b[0m in \u001b[0;36m__call__\u001b[0;34m(self, iterable)\u001b[0m\n\u001b[1;32m    756\u001b[0m             \u001b[0;31m# was dispatched. In particular this covers the edge\u001b[0m\u001b[0;34m\u001b[0m\u001b[0;34m\u001b[0m\u001b[0m\n\u001b[1;32m    757\u001b[0m             \u001b[0;31m# case of Parallel used with an exhausted iterator.\u001b[0m\u001b[0;34m\u001b[0m\u001b[0;34m\u001b[0m\u001b[0m\n\u001b[0;32m--> 758\u001b[0;31m             \u001b[0;32mwhile\u001b[0m \u001b[0mself\u001b[0m\u001b[0;34m.\u001b[0m\u001b[0mdispatch_one_batch\u001b[0m\u001b[0;34m(\u001b[0m\u001b[0miterator\u001b[0m\u001b[0;34m)\u001b[0m\u001b[0;34m:\u001b[0m\u001b[0;34m\u001b[0m\u001b[0m\n\u001b[0m\u001b[1;32m    759\u001b[0m                 \u001b[0mself\u001b[0m\u001b[0;34m.\u001b[0m\u001b[0m_iterating\u001b[0m \u001b[0;34m=\u001b[0m \u001b[0;32mTrue\u001b[0m\u001b[0;34m\u001b[0m\u001b[0m\n\u001b[1;32m    760\u001b[0m             \u001b[0;32melse\u001b[0m\u001b[0;34m:\u001b[0m\u001b[0;34m\u001b[0m\u001b[0m\n",
      "\u001b[0;32m/home/valentin/bin/anaconda3/lib/python3.5/site-packages/sklearn/externals/joblib/parallel.py\u001b[0m in \u001b[0;36mdispatch_one_batch\u001b[0;34m(self, iterator)\u001b[0m\n\u001b[1;32m    606\u001b[0m                 \u001b[0;32mreturn\u001b[0m \u001b[0;32mFalse\u001b[0m\u001b[0;34m\u001b[0m\u001b[0m\n\u001b[1;32m    607\u001b[0m             \u001b[0;32melse\u001b[0m\u001b[0;34m:\u001b[0m\u001b[0;34m\u001b[0m\u001b[0m\n\u001b[0;32m--> 608\u001b[0;31m                 \u001b[0mself\u001b[0m\u001b[0;34m.\u001b[0m\u001b[0m_dispatch\u001b[0m\u001b[0;34m(\u001b[0m\u001b[0mtasks\u001b[0m\u001b[0;34m)\u001b[0m\u001b[0;34m\u001b[0m\u001b[0m\n\u001b[0m\u001b[1;32m    609\u001b[0m                 \u001b[0;32mreturn\u001b[0m \u001b[0;32mTrue\u001b[0m\u001b[0;34m\u001b[0m\u001b[0m\n\u001b[1;32m    610\u001b[0m \u001b[0;34m\u001b[0m\u001b[0m\n",
      "\u001b[0;32m/home/valentin/bin/anaconda3/lib/python3.5/site-packages/sklearn/externals/joblib/parallel.py\u001b[0m in \u001b[0;36m_dispatch\u001b[0;34m(self, batch)\u001b[0m\n\u001b[1;32m    569\u001b[0m         \u001b[0mdispatch_timestamp\u001b[0m \u001b[0;34m=\u001b[0m \u001b[0mtime\u001b[0m\u001b[0;34m.\u001b[0m\u001b[0mtime\u001b[0m\u001b[0;34m(\u001b[0m\u001b[0;34m)\u001b[0m\u001b[0;34m\u001b[0m\u001b[0m\n\u001b[1;32m    570\u001b[0m         \u001b[0mcb\u001b[0m \u001b[0;34m=\u001b[0m \u001b[0mBatchCompletionCallBack\u001b[0m\u001b[0;34m(\u001b[0m\u001b[0mdispatch_timestamp\u001b[0m\u001b[0;34m,\u001b[0m \u001b[0mlen\u001b[0m\u001b[0;34m(\u001b[0m\u001b[0mbatch\u001b[0m\u001b[0;34m)\u001b[0m\u001b[0;34m,\u001b[0m \u001b[0mself\u001b[0m\u001b[0;34m)\u001b[0m\u001b[0;34m\u001b[0m\u001b[0m\n\u001b[0;32m--> 571\u001b[0;31m         \u001b[0mjob\u001b[0m \u001b[0;34m=\u001b[0m \u001b[0mself\u001b[0m\u001b[0;34m.\u001b[0m\u001b[0m_backend\u001b[0m\u001b[0;34m.\u001b[0m\u001b[0mapply_async\u001b[0m\u001b[0;34m(\u001b[0m\u001b[0mbatch\u001b[0m\u001b[0;34m,\u001b[0m \u001b[0mcallback\u001b[0m\u001b[0;34m=\u001b[0m\u001b[0mcb\u001b[0m\u001b[0;34m)\u001b[0m\u001b[0;34m\u001b[0m\u001b[0m\n\u001b[0m\u001b[1;32m    572\u001b[0m         \u001b[0mself\u001b[0m\u001b[0;34m.\u001b[0m\u001b[0m_jobs\u001b[0m\u001b[0;34m.\u001b[0m\u001b[0mappend\u001b[0m\u001b[0;34m(\u001b[0m\u001b[0mjob\u001b[0m\u001b[0;34m)\u001b[0m\u001b[0;34m\u001b[0m\u001b[0m\n\u001b[1;32m    573\u001b[0m \u001b[0;34m\u001b[0m\u001b[0m\n",
      "\u001b[0;32m/home/valentin/bin/anaconda3/lib/python3.5/site-packages/sklearn/externals/joblib/_parallel_backends.py\u001b[0m in \u001b[0;36mapply_async\u001b[0;34m(self, func, callback)\u001b[0m\n\u001b[1;32m    107\u001b[0m     \u001b[0;32mdef\u001b[0m \u001b[0mapply_async\u001b[0m\u001b[0;34m(\u001b[0m\u001b[0mself\u001b[0m\u001b[0;34m,\u001b[0m \u001b[0mfunc\u001b[0m\u001b[0;34m,\u001b[0m \u001b[0mcallback\u001b[0m\u001b[0;34m=\u001b[0m\u001b[0;32mNone\u001b[0m\u001b[0;34m)\u001b[0m\u001b[0;34m:\u001b[0m\u001b[0;34m\u001b[0m\u001b[0m\n\u001b[1;32m    108\u001b[0m         \u001b[0;34m\"\"\"Schedule a func to be run\"\"\"\u001b[0m\u001b[0;34m\u001b[0m\u001b[0m\n\u001b[0;32m--> 109\u001b[0;31m         \u001b[0mresult\u001b[0m \u001b[0;34m=\u001b[0m \u001b[0mImmediateResult\u001b[0m\u001b[0;34m(\u001b[0m\u001b[0mfunc\u001b[0m\u001b[0;34m)\u001b[0m\u001b[0;34m\u001b[0m\u001b[0m\n\u001b[0m\u001b[1;32m    110\u001b[0m         \u001b[0;32mif\u001b[0m \u001b[0mcallback\u001b[0m\u001b[0;34m:\u001b[0m\u001b[0;34m\u001b[0m\u001b[0m\n\u001b[1;32m    111\u001b[0m             \u001b[0mcallback\u001b[0m\u001b[0;34m(\u001b[0m\u001b[0mresult\u001b[0m\u001b[0;34m)\u001b[0m\u001b[0;34m\u001b[0m\u001b[0m\n",
      "\u001b[0;32m/home/valentin/bin/anaconda3/lib/python3.5/site-packages/sklearn/externals/joblib/_parallel_backends.py\u001b[0m in \u001b[0;36m__init__\u001b[0;34m(self, batch)\u001b[0m\n\u001b[1;32m    324\u001b[0m         \u001b[0;31m# Don't delay the application, to avoid keeping the input\u001b[0m\u001b[0;34m\u001b[0m\u001b[0;34m\u001b[0m\u001b[0m\n\u001b[1;32m    325\u001b[0m         \u001b[0;31m# arguments in memory\u001b[0m\u001b[0;34m\u001b[0m\u001b[0;34m\u001b[0m\u001b[0m\n\u001b[0;32m--> 326\u001b[0;31m         \u001b[0mself\u001b[0m\u001b[0;34m.\u001b[0m\u001b[0mresults\u001b[0m \u001b[0;34m=\u001b[0m \u001b[0mbatch\u001b[0m\u001b[0;34m(\u001b[0m\u001b[0;34m)\u001b[0m\u001b[0;34m\u001b[0m\u001b[0m\n\u001b[0m\u001b[1;32m    327\u001b[0m \u001b[0;34m\u001b[0m\u001b[0m\n\u001b[1;32m    328\u001b[0m     \u001b[0;32mdef\u001b[0m \u001b[0mget\u001b[0m\u001b[0;34m(\u001b[0m\u001b[0mself\u001b[0m\u001b[0;34m)\u001b[0m\u001b[0;34m:\u001b[0m\u001b[0;34m\u001b[0m\u001b[0m\n",
      "\u001b[0;32m/home/valentin/bin/anaconda3/lib/python3.5/site-packages/sklearn/externals/joblib/parallel.py\u001b[0m in \u001b[0;36m__call__\u001b[0;34m(self)\u001b[0m\n\u001b[1;32m    129\u001b[0m \u001b[0;34m\u001b[0m\u001b[0m\n\u001b[1;32m    130\u001b[0m     \u001b[0;32mdef\u001b[0m \u001b[0m__call__\u001b[0m\u001b[0;34m(\u001b[0m\u001b[0mself\u001b[0m\u001b[0;34m)\u001b[0m\u001b[0;34m:\u001b[0m\u001b[0;34m\u001b[0m\u001b[0m\n\u001b[0;32m--> 131\u001b[0;31m         \u001b[0;32mreturn\u001b[0m \u001b[0;34m[\u001b[0m\u001b[0mfunc\u001b[0m\u001b[0;34m(\u001b[0m\u001b[0;34m*\u001b[0m\u001b[0margs\u001b[0m\u001b[0;34m,\u001b[0m \u001b[0;34m**\u001b[0m\u001b[0mkwargs\u001b[0m\u001b[0;34m)\u001b[0m \u001b[0;32mfor\u001b[0m \u001b[0mfunc\u001b[0m\u001b[0;34m,\u001b[0m \u001b[0margs\u001b[0m\u001b[0;34m,\u001b[0m \u001b[0mkwargs\u001b[0m \u001b[0;32min\u001b[0m \u001b[0mself\u001b[0m\u001b[0;34m.\u001b[0m\u001b[0mitems\u001b[0m\u001b[0;34m]\u001b[0m\u001b[0;34m\u001b[0m\u001b[0m\n\u001b[0m\u001b[1;32m    132\u001b[0m \u001b[0;34m\u001b[0m\u001b[0m\n\u001b[1;32m    133\u001b[0m     \u001b[0;32mdef\u001b[0m \u001b[0m__len__\u001b[0m\u001b[0;34m(\u001b[0m\u001b[0mself\u001b[0m\u001b[0;34m)\u001b[0m\u001b[0;34m:\u001b[0m\u001b[0;34m\u001b[0m\u001b[0m\n",
      "\u001b[0;32m/home/valentin/bin/anaconda3/lib/python3.5/site-packages/sklearn/externals/joblib/parallel.py\u001b[0m in \u001b[0;36m<listcomp>\u001b[0;34m(.0)\u001b[0m\n\u001b[1;32m    129\u001b[0m \u001b[0;34m\u001b[0m\u001b[0m\n\u001b[1;32m    130\u001b[0m     \u001b[0;32mdef\u001b[0m \u001b[0m__call__\u001b[0m\u001b[0;34m(\u001b[0m\u001b[0mself\u001b[0m\u001b[0;34m)\u001b[0m\u001b[0;34m:\u001b[0m\u001b[0;34m\u001b[0m\u001b[0m\n\u001b[0;32m--> 131\u001b[0;31m         \u001b[0;32mreturn\u001b[0m \u001b[0;34m[\u001b[0m\u001b[0mfunc\u001b[0m\u001b[0;34m(\u001b[0m\u001b[0;34m*\u001b[0m\u001b[0margs\u001b[0m\u001b[0;34m,\u001b[0m \u001b[0;34m**\u001b[0m\u001b[0mkwargs\u001b[0m\u001b[0;34m)\u001b[0m \u001b[0;32mfor\u001b[0m \u001b[0mfunc\u001b[0m\u001b[0;34m,\u001b[0m \u001b[0margs\u001b[0m\u001b[0;34m,\u001b[0m \u001b[0mkwargs\u001b[0m \u001b[0;32min\u001b[0m \u001b[0mself\u001b[0m\u001b[0;34m.\u001b[0m\u001b[0mitems\u001b[0m\u001b[0;34m]\u001b[0m\u001b[0;34m\u001b[0m\u001b[0m\n\u001b[0m\u001b[1;32m    132\u001b[0m \u001b[0;34m\u001b[0m\u001b[0m\n\u001b[1;32m    133\u001b[0m     \u001b[0;32mdef\u001b[0m \u001b[0m__len__\u001b[0m\u001b[0;34m(\u001b[0m\u001b[0mself\u001b[0m\u001b[0;34m)\u001b[0m\u001b[0;34m:\u001b[0m\u001b[0;34m\u001b[0m\u001b[0m\n",
      "\u001b[0;32m/home/valentin/bin/anaconda3/lib/python3.5/site-packages/sklearn/model_selection/_validation.py\u001b[0m in \u001b[0;36m_fit_and_score\u001b[0;34m(estimator, X, y, scorer, train, test, verbose, parameters, fit_params, return_train_score, return_parameters, return_n_test_samples, return_times, error_score)\u001b[0m\n\u001b[1;32m    236\u001b[0m             \u001b[0mestimator\u001b[0m\u001b[0;34m.\u001b[0m\u001b[0mfit\u001b[0m\u001b[0;34m(\u001b[0m\u001b[0mX_train\u001b[0m\u001b[0;34m,\u001b[0m \u001b[0;34m**\u001b[0m\u001b[0mfit_params\u001b[0m\u001b[0;34m)\u001b[0m\u001b[0;34m\u001b[0m\u001b[0m\n\u001b[1;32m    237\u001b[0m         \u001b[0;32melse\u001b[0m\u001b[0;34m:\u001b[0m\u001b[0;34m\u001b[0m\u001b[0m\n\u001b[0;32m--> 238\u001b[0;31m             \u001b[0mestimator\u001b[0m\u001b[0;34m.\u001b[0m\u001b[0mfit\u001b[0m\u001b[0;34m(\u001b[0m\u001b[0mX_train\u001b[0m\u001b[0;34m,\u001b[0m \u001b[0my_train\u001b[0m\u001b[0;34m,\u001b[0m \u001b[0;34m**\u001b[0m\u001b[0mfit_params\u001b[0m\u001b[0;34m)\u001b[0m\u001b[0;34m\u001b[0m\u001b[0m\n\u001b[0m\u001b[1;32m    239\u001b[0m \u001b[0;34m\u001b[0m\u001b[0m\n\u001b[1;32m    240\u001b[0m     \u001b[0;32mexcept\u001b[0m \u001b[0mException\u001b[0m \u001b[0;32mas\u001b[0m \u001b[0me\u001b[0m\u001b[0;34m:\u001b[0m\u001b[0;34m\u001b[0m\u001b[0m\n",
      "\u001b[0;32m/home/valentin/bin/xgboost/python-package/xgboost/sklearn.py\u001b[0m in \u001b[0;36mfit\u001b[0;34m(self, X, y, sample_weight, eval_set, eval_metric, early_stopping_rounds, verbose)\u001b[0m\n\u001b[1;32m    457\u001b[0m                               \u001b[0mearly_stopping_rounds\u001b[0m\u001b[0;34m=\u001b[0m\u001b[0mearly_stopping_rounds\u001b[0m\u001b[0;34m,\u001b[0m\u001b[0;34m\u001b[0m\u001b[0m\n\u001b[1;32m    458\u001b[0m                               \u001b[0mevals_result\u001b[0m\u001b[0;34m=\u001b[0m\u001b[0mevals_result\u001b[0m\u001b[0;34m,\u001b[0m \u001b[0mobj\u001b[0m\u001b[0;34m=\u001b[0m\u001b[0mobj\u001b[0m\u001b[0;34m,\u001b[0m \u001b[0mfeval\u001b[0m\u001b[0;34m=\u001b[0m\u001b[0mfeval\u001b[0m\u001b[0;34m,\u001b[0m\u001b[0;34m\u001b[0m\u001b[0m\n\u001b[0;32m--> 459\u001b[0;31m                               verbose_eval=verbose)\n\u001b[0m\u001b[1;32m    460\u001b[0m \u001b[0;34m\u001b[0m\u001b[0m\n\u001b[1;32m    461\u001b[0m         \u001b[0mself\u001b[0m\u001b[0;34m.\u001b[0m\u001b[0mobjective\u001b[0m \u001b[0;34m=\u001b[0m \u001b[0mxgb_options\u001b[0m\u001b[0;34m[\u001b[0m\u001b[0;34m\"objective\"\u001b[0m\u001b[0;34m]\u001b[0m\u001b[0;34m\u001b[0m\u001b[0m\n",
      "\u001b[0;32m/home/valentin/bin/xgboost/python-package/xgboost/training.py\u001b[0m in \u001b[0;36mtrain\u001b[0;34m(params, dtrain, num_boost_round, evals, obj, feval, maximize, early_stopping_rounds, evals_result, verbose_eval, xgb_model, callbacks, learning_rates)\u001b[0m\n\u001b[1;32m    202\u001b[0m                            \u001b[0mevals\u001b[0m\u001b[0;34m=\u001b[0m\u001b[0mevals\u001b[0m\u001b[0;34m,\u001b[0m\u001b[0;34m\u001b[0m\u001b[0m\n\u001b[1;32m    203\u001b[0m                            \u001b[0mobj\u001b[0m\u001b[0;34m=\u001b[0m\u001b[0mobj\u001b[0m\u001b[0;34m,\u001b[0m \u001b[0mfeval\u001b[0m\u001b[0;34m=\u001b[0m\u001b[0mfeval\u001b[0m\u001b[0;34m,\u001b[0m\u001b[0;34m\u001b[0m\u001b[0m\n\u001b[0;32m--> 204\u001b[0;31m                            xgb_model=xgb_model, callbacks=callbacks)\n\u001b[0m\u001b[1;32m    205\u001b[0m \u001b[0;34m\u001b[0m\u001b[0m\n\u001b[1;32m    206\u001b[0m \u001b[0;34m\u001b[0m\u001b[0m\n",
      "\u001b[0;32m/home/valentin/bin/xgboost/python-package/xgboost/training.py\u001b[0m in \u001b[0;36m_train_internal\u001b[0;34m(params, dtrain, num_boost_round, evals, obj, feval, xgb_model, callbacks)\u001b[0m\n\u001b[1;32m     72\u001b[0m         \u001b[0;31m# Skip the first update if it is a recovery step.\u001b[0m\u001b[0;34m\u001b[0m\u001b[0;34m\u001b[0m\u001b[0m\n\u001b[1;32m     73\u001b[0m         \u001b[0;32mif\u001b[0m \u001b[0mversion\u001b[0m \u001b[0;34m%\u001b[0m \u001b[0;36m2\u001b[0m \u001b[0;34m==\u001b[0m \u001b[0;36m0\u001b[0m\u001b[0;34m:\u001b[0m\u001b[0;34m\u001b[0m\u001b[0m\n\u001b[0;32m---> 74\u001b[0;31m             \u001b[0mbst\u001b[0m\u001b[0;34m.\u001b[0m\u001b[0mupdate\u001b[0m\u001b[0;34m(\u001b[0m\u001b[0mdtrain\u001b[0m\u001b[0;34m,\u001b[0m \u001b[0mi\u001b[0m\u001b[0;34m,\u001b[0m \u001b[0mobj\u001b[0m\u001b[0;34m)\u001b[0m\u001b[0;34m\u001b[0m\u001b[0m\n\u001b[0m\u001b[1;32m     75\u001b[0m             \u001b[0mbst\u001b[0m\u001b[0;34m.\u001b[0m\u001b[0msave_rabit_checkpoint\u001b[0m\u001b[0;34m(\u001b[0m\u001b[0;34m)\u001b[0m\u001b[0;34m\u001b[0m\u001b[0m\n\u001b[1;32m     76\u001b[0m             \u001b[0mversion\u001b[0m \u001b[0;34m+=\u001b[0m \u001b[0;36m1\u001b[0m\u001b[0;34m\u001b[0m\u001b[0m\n",
      "\u001b[0;32m/home/valentin/bin/xgboost/python-package/xgboost/core.py\u001b[0m in \u001b[0;36mupdate\u001b[0;34m(self, dtrain, iteration, fobj)\u001b[0m\n\u001b[1;32m    817\u001b[0m \u001b[0;34m\u001b[0m\u001b[0m\n\u001b[1;32m    818\u001b[0m         \u001b[0;32mif\u001b[0m \u001b[0mfobj\u001b[0m \u001b[0;32mis\u001b[0m \u001b[0;32mNone\u001b[0m\u001b[0;34m:\u001b[0m\u001b[0;34m\u001b[0m\u001b[0m\n\u001b[0;32m--> 819\u001b[0;31m             \u001b[0m_check_call\u001b[0m\u001b[0;34m(\u001b[0m\u001b[0m_LIB\u001b[0m\u001b[0;34m.\u001b[0m\u001b[0mXGBoosterUpdateOneIter\u001b[0m\u001b[0;34m(\u001b[0m\u001b[0mself\u001b[0m\u001b[0;34m.\u001b[0m\u001b[0mhandle\u001b[0m\u001b[0;34m,\u001b[0m \u001b[0miteration\u001b[0m\u001b[0;34m,\u001b[0m \u001b[0mdtrain\u001b[0m\u001b[0;34m.\u001b[0m\u001b[0mhandle\u001b[0m\u001b[0;34m)\u001b[0m\u001b[0;34m)\u001b[0m\u001b[0;34m\u001b[0m\u001b[0m\n\u001b[0m\u001b[1;32m    820\u001b[0m         \u001b[0;32melse\u001b[0m\u001b[0;34m:\u001b[0m\u001b[0;34m\u001b[0m\u001b[0m\n\u001b[1;32m    821\u001b[0m             \u001b[0mpred\u001b[0m \u001b[0;34m=\u001b[0m \u001b[0mself\u001b[0m\u001b[0;34m.\u001b[0m\u001b[0mpredict\u001b[0m\u001b[0;34m(\u001b[0m\u001b[0mdtrain\u001b[0m\u001b[0;34m)\u001b[0m\u001b[0;34m\u001b[0m\u001b[0m\n",
      "\u001b[0;31mKeyboardInterrupt\u001b[0m: "
     ]
    }
   ],
   "source": [
    "model = XGBClassifier(\n",
    "        objective = 'multi:softprob',\n",
    "        nthread = 4,\n",
    "        learning_rate = 0.05,\n",
    "        n_estimators = 100,\n",
    "        max_depth = 8,\n",
    "        subsample = 0.7,\n",
    "        colsample_bytree = 0.7,\n",
    "        colsample_bylevel = 0.7,\n",
    "        silent = 0,\n",
    "        )\n",
    "\n",
    "param_grid = {}\n",
    "param_grid[\"colsample_bytree\"] = [0.3, 0.5, 0.6]\n",
    "param_grid[\"colsample_bylevel\"] = [0.3, 0.7, 1.]\n",
    "param_grid[\"subsample\"] = [0.7, 0.8, 1.]\n",
    "param_grid[\"max_depth\"] = [6, 8, 10]\n",
    "\n",
    "grid_search = GridSearchCV(model, param_grid, scoring=\"accuracy\", cv=3, verbose=3)\n",
    "cv_results = grid_search.fit(X_train, y_train)\n"
   ]
  },
  {
   "cell_type": "code",
   "execution_count": null,
   "metadata": {
    "collapsed": true
   },
   "outputs": [],
   "source": [
    "joblib.dump(cv_results, \"models/xgboost_cv.pickle\")"
   ]
  },
  {
   "cell_type": "code",
   "execution_count": 10,
   "metadata": {
    "collapsed": true
   },
   "outputs": [],
   "source": [
    "preds = cv_results.predict(X_test)"
   ]
  },
  {
   "cell_type": "code",
   "execution_count": 20,
   "metadata": {
    "collapsed": false,
    "scrolled": true
   },
   "outputs": [
    {
     "name": "stdout",
     "output_type": "stream",
     "text": [
      "                   precision    recall  f1-score   support\n",
      "\n",
      " ind_cco_fin_ult1       0.58      0.79      0.67      1921\n",
      "ind_cder_fin_ult1       0.00      0.00      0.00         1\n",
      " ind_cno_fin_ult1       0.74      0.29      0.41       416\n",
      "ind_ctju_fin_ult1       1.00      0.83      0.91        12\n",
      "ind_ctma_fin_ult1       0.00      0.00      0.00        74\n",
      "ind_ctop_fin_ult1       0.00      0.00      0.00        44\n",
      "ind_ctpp_fin_ult1       0.00      0.00      0.00        30\n",
      "ind_deco_fin_ult1       0.61      0.36      0.45        97\n",
      "ind_dela_fin_ult1       0.78      0.08      0.15       224\n",
      "ind_deme_fin_ult1       0.00      0.00      0.00         3\n",
      "ind_ecue_fin_ult1       0.81      0.39      0.53       223\n",
      "ind_fond_fin_ult1       0.00      0.00      0.00        50\n",
      " ind_hip_fin_ult1       0.47      0.64      0.54      1628\n",
      "ind_nom_pens_ult1       0.11      0.01      0.02      1014\n",
      "  ind_nomina_ult1       0.00      0.00      0.00         3\n",
      "ind_plan_fin_ult1       0.00      0.00      0.00         1\n",
      "ind_pres_fin_ult1       0.61      0.29      0.40       590\n",
      "ind_reca_fin_ult1       0.56      0.86      0.68      1816\n",
      "  ind_recibo_ult1       0.55      0.44      0.49       955\n",
      "ind_tjcr_fin_ult1       0.00      0.00      0.00        32\n",
      "ind_valo_fin_ult1       0.00      0.00      0.00         1\n",
      "\n",
      "      avg / total       0.51      0.55      0.49      9135\n",
      "\n"
     ]
    },
    {
     "name": "stderr",
     "output_type": "stream",
     "text": [
      "/home/valentin/bin/anaconda3/lib/python3.5/site-packages/sklearn/metrics/classification.py:1113: UndefinedMetricWarning: Precision and F-score are ill-defined and being set to 0.0 in labels with no predicted samples.\n",
      "  'precision', 'predicted', average, warn_for)\n"
     ]
    }
   ],
   "source": [
    "print(metrics.classification_report(y_test, preds, target_names=list(label_encoder.classes_)))"
   ]
  },
  {
   "cell_type": "code",
   "execution_count": 21,
   "metadata": {
    "collapsed": false
   },
   "outputs": [
    {
     "name": "stdout",
     "output_type": "stream",
     "text": [
      "0.547235905857\n"
     ]
    }
   ],
   "source": [
    "print(metrics.accuracy_score(y_test, preds))"
   ]
  }
 ],
 "metadata": {
  "anaconda-cloud": {},
  "kernelspec": {
   "display_name": "Python [conda root]",
   "language": "python",
   "name": "conda-root-py"
  },
  "language_info": {
   "codemirror_mode": {
    "name": "ipython",
    "version": 3
   },
   "file_extension": ".py",
   "mimetype": "text/x-python",
   "name": "python",
   "nbconvert_exporter": "python",
   "pygments_lexer": "ipython3",
   "version": "3.5.2"
  }
 },
 "nbformat": 4,
 "nbformat_minor": 0
}
