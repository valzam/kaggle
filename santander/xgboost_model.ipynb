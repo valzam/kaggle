{
 "cells": [
  {
   "cell_type": "code",
   "execution_count": 1,
   "metadata": {
    "collapsed": false
   },
   "outputs": [],
   "source": [
    "from sklearn import metrics\n",
    "from datetime import datetime\n",
    "from src.average_precision import calculate_score\n",
    "import numpy as np\n",
    "import pickle\n",
    "from src.average_precision import calculate_delta\n",
    "import pandas as pd\n",
    "from src.average_precision import convert_to_names\n",
    "from sklearn.model_selection import train_test_split, StratifiedKFold, GridSearchCV\n",
    "from sklearn import metrics\n",
    "import xgboost\n",
    "from xgboost.sklearn import XGBClassifier\n",
    "%matplotlib inline\n",
    "import seaborn\n",
    "from sklearn.externals import joblib"
   ]
  },
  {
   "cell_type": "code",
   "execution_count": 2,
   "metadata": {
    "collapsed": false
   },
   "outputs": [],
   "source": [
    "X = pd.read_pickle(\"data/multiclass_training.pickle\")"
   ]
  },
  {
   "cell_type": "code",
   "execution_count": 3,
   "metadata": {
    "collapsed": false
   },
   "outputs": [],
   "source": [
    "cols_not_for_training = [\"fecha_dato\",\"ncodpers\", \"target\", \"product\"]\n",
    "X_train, X_test, y_train, y_test = train_test_split(\n",
    "                                    X.drop(cols_not_for_training, axis=1), X[\"target\"], test_size=0.20, random_state=42)"
   ]
  },
  {
   "cell_type": "code",
   "execution_count": 6,
   "metadata": {
    "collapsed": false,
    "scrolled": true
   },
   "outputs": [
    {
     "name": "stdout",
     "output_type": "stream",
     "text": [
      "Fitting 3 folds for each of 2 candidates, totalling 6 fits\n",
      "[CV] colsample_bytree=0.3 ............................................\n"
     ]
    },
    {
     "name": "stderr",
     "output_type": "stream",
     "text": [
      "/home/valentin/bin/anaconda3/lib/python3.5/site-packages/sklearn/model_selection/_split.py:581: Warning: The least populated class in y has only 2 members, which is too few. The minimum number of groups for any class cannot be less than n_splits=3.\n",
      "  % (min_groups, self.n_splits)), Warning)\n"
     ]
    },
    {
     "name": "stdout",
     "output_type": "stream",
     "text": [
      "[CV] ............................. colsample_bytree=0.3, total=  42.2s\n",
      "[CV] colsample_bytree=0.3 ............................................\n"
     ]
    },
    {
     "name": "stderr",
     "output_type": "stream",
     "text": [
      "[Parallel(n_jobs=1)]: Done   1 out of   1 | elapsed:   43.5s remaining:    0.0s\n"
     ]
    },
    {
     "name": "stdout",
     "output_type": "stream",
     "text": [
      "[CV] ............................. colsample_bytree=0.3, total=  48.6s\n",
      "[CV] colsample_bytree=0.3 ............................................\n",
      "[CV] ............................. colsample_bytree=0.3, total=  32.1s\n",
      "[CV] colsample_bytree=0.7 ............................................\n",
      "[CV] ............................. colsample_bytree=0.7, total=  53.3s\n",
      "[CV] colsample_bytree=0.7 ............................................\n",
      "[CV] ............................. colsample_bytree=0.7, total=  54.0s\n",
      "[CV] colsample_bytree=0.7 ............................................\n",
      "[CV] ............................. colsample_bytree=0.7, total=  51.1s\n"
     ]
    },
    {
     "name": "stderr",
     "output_type": "stream",
     "text": [
      "[Parallel(n_jobs=1)]: Done   6 out of   6 | elapsed:  4.8min finished\n"
     ]
    }
   ],
   "source": [
    "model = XGBClassifier(\n",
    "        objective = 'multi:softprob',\n",
    "        nthread = 4,\n",
    "        learning_rate = 0.05,\n",
    "        n_estimators = 100,\n",
    "        max_depth = 8,\n",
    "        subsample = 0.7,\n",
    "        colsample_bytree = 0.7,\n",
    "        colsample_bylevel = 0.7,\n",
    "        silent = 0,\n",
    "        )\n",
    "\n",
    "param_grid = {}\n",
    "param_grid[\"colsample_bytree\"] = [0.3, 0.7]\n",
    "\n",
    "grid_search = GridSearchCV(model, param_grid, scoring=\"accuracy\", cv=3, verbose=2)\n",
    "cv_results = grid_search.fit(X_train, y_train)\n"
   ]
  },
  {
   "cell_type": "code",
   "execution_count": null,
   "metadata": {
    "collapsed": true
   },
   "outputs": [],
   "source": [
    "joblib.dump(cv_results, \"models/xgboost_cv.pickle\")"
   ]
  }
 ],
 "metadata": {
  "anaconda-cloud": {},
  "kernelspec": {
   "display_name": "Python [conda root]",
   "language": "python",
   "name": "conda-root-py"
  },
  "language_info": {
   "codemirror_mode": {
    "name": "ipython",
    "version": 3
   },
   "file_extension": ".py",
   "mimetype": "text/x-python",
   "name": "python",
   "nbconvert_exporter": "python",
   "pygments_lexer": "ipython3",
   "version": "3.5.2"
  }
 },
 "nbformat": 4,
 "nbformat_minor": 0
}
