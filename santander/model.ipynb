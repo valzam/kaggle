{
 "cells": [
  {
   "cell_type": "code",
   "execution_count": 49,
   "metadata": {
    "collapsed": false
   },
   "outputs": [
    {
     "name": "stdout",
     "output_type": "stream",
     "text": [
      "The autoreload extension is already loaded. To reload it, use:\n",
      "  %reload_ext autoreload\n"
     ]
    }
   ],
   "source": [
    "%load_ext autoreload\n",
    "from keras.models import Sequential\n",
    "from keras.layers.recurrent import LSTM\n",
    "from keras.layers import Dense, Dropout\n",
    "from sklearn.model_selection import train_test_split\n",
    "from sklearn import metrics\n",
    "from datetime import datetime\n",
    "from src.average_precision import calculate_score\n",
    "import numpy as np\n",
    "import pickle\n",
    "from keras.preprocessing import sequence\n",
    "%autoreload 2"
   ]
  },
  {
   "cell_type": "code",
   "execution_count": 4,
   "metadata": {
    "collapsed": false
   },
   "outputs": [],
   "source": [
    "X_train = pickle.load( open( \"data/X_train.pickle\", \"rb\" ) )\n",
    "y_train = np.array(pickle.load( open( \"data/y_train.pickle\", \"rb\" ) ))"
   ]
  },
  {
   "cell_type": "code",
   "execution_count": 5,
   "metadata": {
    "collapsed": false
   },
   "outputs": [],
   "source": [
    "X_train =sequence.pad_sequences(X_train, maxlen=16, dtype='float')"
   ]
  },
  {
   "cell_type": "code",
   "execution_count": 6,
   "metadata": {
    "collapsed": true
   },
   "outputs": [],
   "source": [
    "X_train, X_test, y_train, y_test = train_test_split(\n",
    "                                    X_train, y_train, test_size=0.20, random_state=42)"
   ]
  },
  {
   "cell_type": "code",
   "execution_count": 7,
   "metadata": {
    "collapsed": false
   },
   "outputs": [],
   "source": [
    "model = Sequential()\n",
    "model.add(LSTM(256, input_shape=(X_train.shape[1], X_train.shape[2]), return_sequences=True))\n",
    "model.add(Dropout(0.2))\n",
    "model.add(LSTM(128, input_shape=(X_train.shape[1], X_train.shape[2])))\n",
    "model.add(Dropout(0.2))\n",
    "model.add(Dense(y_train.shape[1], activation=\"softmax\"))\n",
    "model.compile(loss=\"categorical_crossentropy\", optimizer=\"adam\")"
   ]
  },
  {
   "cell_type": "code",
   "execution_count": 8,
   "metadata": {
    "collapsed": false
   },
   "outputs": [
    {
     "name": "stdout",
     "output_type": "stream",
     "text": [
      "Epoch 1/10\n",
      "94355/94355 [==============================] - 12s - loss: 0.7956    \n",
      "Epoch 2/10\n",
      "94355/94355 [==============================] - 11s - loss: 0.5919    \n",
      "Epoch 3/10\n",
      "94355/94355 [==============================] - 11s - loss: 0.5648    \n",
      "Epoch 4/10\n",
      "94355/94355 [==============================] - 11s - loss: 0.5531    \n",
      "Epoch 5/10\n",
      "94355/94355 [==============================] - 12s - loss: 0.5447    \n",
      "Epoch 6/10\n",
      "94355/94355 [==============================] - 11s - loss: 0.5396    \n",
      "Epoch 7/10\n",
      "94355/94355 [==============================] - 12s - loss: 0.5357    \n",
      "Epoch 8/10\n",
      "94355/94355 [==============================] - 12s - loss: 0.5321    \n",
      "Epoch 9/10\n",
      "94355/94355 [==============================] - 12s - loss: 0.5296    \n",
      "Epoch 10/10\n",
      "94355/94355 [==============================] - 12s - loss: 0.5270    \n"
     ]
    },
    {
     "data": {
      "text/plain": [
       "<keras.callbacks.History at 0x7fc37047bd68>"
      ]
     },
     "execution_count": 8,
     "metadata": {},
     "output_type": "execute_result"
    }
   ],
   "source": [
    "model.fit(X_train, y_train, nb_epoch=10, batch_size=512)"
   ]
  },
  {
   "cell_type": "code",
   "execution_count": 15,
   "metadata": {
    "collapsed": false,
    "scrolled": false
   },
   "outputs": [
    {
     "name": "stdout",
     "output_type": "stream",
     "text": [
      "23584/23589 [============================>.] - ETA: 0s"
     ]
    }
   ],
   "source": [
    "preds = np.round(model.predict_proba(X_test), 2)"
   ]
  },
  {
   "cell_type": "code",
   "execution_count": 85,
   "metadata": {
    "collapsed": false
   },
   "outputs": [
    {
     "name": "stdout",
     "output_type": "stream",
     "text": [
      "0.728955781784\n",
      "             precision    recall  f1-score   support\n",
      "\n",
      "          0       0.00      0.00      0.00         0\n",
      "          1       0.00      0.00      0.00         0\n",
      "          2       0.72      0.88      0.79     15433\n",
      "          3       0.00      0.00      0.00         1\n",
      "          4       0.94      0.23      0.37      1395\n",
      "          5       0.97      0.98      0.97       136\n",
      "          6       0.95      0.53      0.69       116\n",
      "          7       0.00      0.00      0.00         0\n",
      "          8       0.00      0.00      0.00         0\n",
      "          9       0.00      0.00      0.00         0\n",
      "         10       0.00      0.00      0.00         0\n",
      "         11       0.97      0.50      0.66       338\n",
      "         12       0.88      0.42      0.57      1321\n",
      "         13       0.88      0.23      0.36        66\n",
      "         14       0.00      0.00      0.00         2\n",
      "         15       0.75      0.18      0.29        17\n",
      "         16       0.00      0.00      0.00         2\n",
      "         17       1.00      0.27      0.43       377\n",
      "         18       0.64      0.07      0.13       255\n",
      "         19       0.96      0.27      0.42       100\n",
      "         20       0.00      0.00      0.00         0\n",
      "         21       0.00      0.00      0.00       882\n",
      "         22       0.00      0.00      0.00       924\n",
      "         23       0.73      0.03      0.05      2346\n",
      "\n",
      "avg / total       0.70      0.63      0.60     23711\n",
      "\n"
     ]
    },
    {
     "name": "stderr",
     "output_type": "stream",
     "text": [
      "/home/valentin/bin/anaconda3/envs/tensorflow/lib/python3.5/site-packages/sklearn/metrics/classification.py:1113: UndefinedMetricWarning: Precision and F-score are ill-defined and being set to 0.0 in labels with no predicted samples.\n",
      "  'precision', 'predicted', average, warn_for)\n",
      "/home/valentin/bin/anaconda3/envs/tensorflow/lib/python3.5/site-packages/sklearn/metrics/classification.py:1115: UndefinedMetricWarning: Recall and F-score are ill-defined and being set to 0.0 in labels with no true samples.\n",
      "  'recall', 'true', average, warn_for)\n"
     ]
    }
   ],
   "source": [
    "score = calculate_score(y_test, preds, X_test)\n",
    "print(score)\n",
    "print(metrics.classification_report(y_test, np.round(preds)))"
   ]
  },
  {
   "cell_type": "code",
   "execution_count": 81,
   "metadata": {
    "collapsed": false
   },
   "outputs": [],
   "source": [
    "fp = \"models/lstm_{0}_SCORE_{1}\".format(datetime.now().strftime(\"%Y-%m-%d %H:%M:%S\"), np.round(score,5)) \n",
    "model.save(fp)"
   ]
  }
 ],
 "metadata": {
  "anaconda-cloud": {},
  "kernelspec": {
   "display_name": "Python [conda env:tensorflow]",
   "language": "python",
   "name": "conda-env-tensorflow-py"
  },
  "language_info": {
   "codemirror_mode": {
    "name": "ipython",
    "version": 3
   },
   "file_extension": ".py",
   "mimetype": "text/x-python",
   "name": "python",
   "nbconvert_exporter": "python",
   "pygments_lexer": "ipython3",
   "version": "3.5.2"
  }
 },
 "nbformat": 4,
 "nbformat_minor": 1
}
