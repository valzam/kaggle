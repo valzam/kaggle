{
 "cells": [
  {
   "cell_type": "code",
   "execution_count": 3,
   "metadata": {
    "collapsed": false
   },
   "outputs": [
    {
     "name": "stdout",
     "output_type": "stream",
     "text": [
      "The autoreload extension is already loaded. To reload it, use:\n",
      "  %reload_ext autoreload\n"
     ]
    }
   ],
   "source": [
    "%load_ext autoreload\n",
    "from keras.models import Sequential\n",
    "from keras.layers.recurrent import LSTM\n",
    "from keras.layers import Dense, Dropout\n",
    "from sklearn.model_selection import train_test_split\n",
    "from sklearn import metrics\n",
    "from datetime import datetime\n",
    "from src.average_precision import calculate_score\n",
    "import numpy as np\n",
    "import pickle\n",
    "from keras.preprocessing import sequence\n",
    "%autoreload 2\n",
    "from src.average_precision import calculate_delta\n",
    "import pandas as pd"
   ]
  },
  {
   "cell_type": "code",
   "execution_count": 7,
   "metadata": {
    "collapsed": false
   },
   "outputs": [],
   "source": [
    "X_train = pd.read_pickle(\"data/x_train_xgboost.pickle\")\n",
    "y_train = pd.read_pickle(\"data/y_train_xgboost.pickle\")\n",
    "X_train = X_train.drop([\"fecha_dato\", \"ncodpers\"], axis=1).values\n",
    "y_train = y_train.values"
   ]
  },
  {
   "cell_type": "code",
   "execution_count": 8,
   "metadata": {
    "collapsed": false
   },
   "outputs": [],
   "source": [
    "X_train, X_test, y_train, y_test = train_test_split(\n",
    "                                    X_train, y_train, test_size=0.20, random_state=42)"
   ]
  },
  {
   "cell_type": "code",
   "execution_count": 13,
   "metadata": {
    "collapsed": false
   },
   "outputs": [],
   "source": [
    "model = Sequential()\n",
    "model.add(Dense(input_dim=X_train.shape[1], output_dim=X_train.shape[1],activation=\"softmax\"))\n",
    "model.add(Dropout(0.2))\n",
    "model.add(Dense(output_dim=X_train.shape[1], activation=\"softmax\"))\n",
    "model.add(Dropout(0.2))\n",
    "model.add(Dense(output_dim=y_train.shape[1], activation=\"softmax\"))\n",
    "model.compile(loss=\"categorical_crossentropy\", optimizer=\"adam\")"
   ]
  },
  {
   "cell_type": "code",
   "execution_count": null,
   "metadata": {
    "collapsed": false
   },
   "outputs": [
    {
     "name": "stdout",
     "output_type": "stream",
     "text": [
      "Epoch 1/10\n",
      "504196/504196 [==============================] - 11s - loss: nan    \n",
      "Epoch 2/10\n",
      "504196/504196 [==============================] - 11s - loss: nan    \n",
      "Epoch 3/10\n",
      "504196/504196 [==============================] - 10s - loss: nan    \n",
      "Epoch 4/10\n",
      "504196/504196 [==============================] - 11s - loss: nan    \n",
      "Epoch 5/10\n",
      "504196/504196 [==============================] - 10s - loss: nan    \n",
      "Epoch 6/10\n",
      "504196/504196 [==============================] - 10s - loss: nan    \n",
      "Epoch 7/10\n",
      "504196/504196 [==============================] - 10s - loss: nan    \n",
      "Epoch 8/10\n",
      "504196/504196 [==============================] - 11s - loss: nan    \n",
      "Epoch 9/10\n",
      "504196/504196 [==============================] - 11s - loss: nan    \n",
      "Epoch 10/10\n",
      " 59976/504196 [==>...........................] - ETA: 10s - loss: 5.8893e-09"
     ]
    }
   ],
   "source": [
    "model.fit(X_train, y_train, nb_epoch=10, batch_size=126)"
   ]
  },
  {
   "cell_type": "code",
   "execution_count": null,
   "metadata": {
    "collapsed": false,
    "scrolled": false
   },
   "outputs": [],
   "source": [
    "preds = np.round(model.predict_proba(X_test), 4)"
   ]
  },
  {
   "cell_type": "code",
   "execution_count": null,
   "metadata": {
    "collapsed": false,
    "scrolled": false
   },
   "outputs": [],
   "source": [
    "score = calculate_score(y_test, preds)\n",
    "print(\"The LB score is: {0}\".format(score))\n",
    "print(metrics.classification_report(y_test, np.round(preds)))"
   ]
  },
  {
   "cell_type": "code",
   "execution_count": null,
   "metadata": {
    "collapsed": false
   },
   "outputs": [],
   "source": [
    "fp = \"models/lstm_{0}_SCORE_{1}\".format(datetime.now().strftime(\"%Y-%m-%d %H:%M:%S\"), np.round(score,5)) \n",
    "model.save(fp)"
   ]
  },
  {
   "cell_type": "code",
   "execution_count": null,
   "metadata": {
    "collapsed": false
   },
   "outputs": [],
   "source": [
    "model.summary()"
   ]
  }
 ],
 "metadata": {
  "anaconda-cloud": {},
  "kernelspec": {
   "display_name": "Python [conda env:tensorflow]",
   "language": "python",
   "name": "conda-env-tensorflow-py"
  },
  "language_info": {
   "codemirror_mode": {
    "name": "ipython",
    "version": 3
   },
   "file_extension": ".py",
   "mimetype": "text/x-python",
   "name": "python",
   "nbconvert_exporter": "python",
   "pygments_lexer": "ipython3",
   "version": "3.5.2"
  }
 },
 "nbformat": 4,
 "nbformat_minor": 1
}
