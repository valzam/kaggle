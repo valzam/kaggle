{
 "cells": [
  {
   "cell_type": "code",
   "execution_count": 1,
   "metadata": {
    "collapsed": false
   },
   "outputs": [
    {
     "name": "stderr",
     "output_type": "stream",
     "text": [
      "Using TensorFlow backend.\n"
     ]
    }
   ],
   "source": [
    "%load_ext autoreload\n",
    "from keras.models import Sequential\n",
    "from keras.layers.recurrent import LSTM\n",
    "from keras.layers import Dense, Dropout\n",
    "from sklearn.model_selection import train_test_split\n",
    "from sklearn import metrics\n",
    "from datetime import datetime\n",
    "from src.average_precision import calculate_score\n",
    "import numpy as np\n",
    "import pickle\n",
    "from keras.preprocessing import sequence\n",
    "%autoreload 2\n",
    "from src.average_precision import calculate_delta"
   ]
  },
  {
   "cell_type": "code",
   "execution_count": 2,
   "metadata": {
    "collapsed": false
   },
   "outputs": [],
   "source": [
    "X_train = pickle.load( open( \"data/X_train.pickle\", \"rb\" ) )\n",
    "y_train = np.array(pickle.load( open( \"data/y_train.pickle\", \"rb\" ) ))"
   ]
  },
  {
   "cell_type": "code",
   "execution_count": 3,
   "metadata": {
    "collapsed": false
   },
   "outputs": [],
   "source": [
    "X_train =sequence.pad_sequences(X_train, maxlen=5, dtype='float')"
   ]
  },
  {
   "cell_type": "code",
   "execution_count": 6,
   "metadata": {
    "collapsed": true
   },
   "outputs": [],
   "source": [
    "X_delta =calculate_delta(X_train, y_train)"
   ]
  },
  {
   "cell_type": "code",
   "execution_count": 8,
   "metadata": {
    "collapsed": false
   },
   "outputs": [],
   "source": [
    "X_delta = np.array(X_delta)"
   ]
  },
  {
   "cell_type": "code",
   "execution_count": 9,
   "metadata": {
    "collapsed": false
   },
   "outputs": [
    {
     "data": {
      "text/plain": [
       "(938418, 24)"
      ]
     },
     "execution_count": 9,
     "metadata": {},
     "output_type": "execute_result"
    }
   ],
   "source": [
    "X_delta.shape"
   ]
  },
  {
   "cell_type": "code",
   "execution_count": 4,
   "metadata": {
    "collapsed": true
   },
   "outputs": [],
   "source": [
    "X_train, X_test, y_train, y_test = train_test_split(\n",
    "                                    X_train, y_train, test_size=0.20, random_state=42)"
   ]
  },
  {
   "cell_type": "code",
   "execution_count": 10,
   "metadata": {
    "collapsed": false
   },
   "outputs": [
    {
     "data": {
      "text/plain": [
       "(938418, 5, 46)"
      ]
     },
     "execution_count": 10,
     "metadata": {},
     "output_type": "execute_result"
    }
   ],
   "source": [
    "X_train.shape"
   ]
  },
  {
   "cell_type": "code",
   "execution_count": 11,
   "metadata": {
    "collapsed": false
   },
   "outputs": [],
   "source": [
    "model = Sequential()\n",
    "model.add(LSTM(256, input_shape=(X_train.shape[1], X_train.shape[2]), return_sequences=True))\n",
    "model.add(Dropout(0.2))\n",
    "model.add(LSTM(128, input_shape=(X_train.shape[1], X_train.shape[2])))\n",
    "model.add(Dropout(0.2))\n",
    "model.add(Dense(y_train.shape[1], activation=\"softmax\"))\n",
    "model.compile(loss=\"categorical_crossentropy\", optimizer=\"adam\")"
   ]
  },
  {
   "cell_type": "code",
   "execution_count": 12,
   "metadata": {
    "collapsed": false
   },
   "outputs": [
    {
     "name": "stdout",
     "output_type": "stream",
     "text": [
      "Epoch 1/20\n",
      "938418/938418 [==============================] - 47s - loss: 1.2908    \n",
      "Epoch 2/20\n",
      "938418/938418 [==============================] - 48s - loss: 1.2107    \n",
      "Epoch 3/20\n",
      "938418/938418 [==============================] - 47s - loss: 1.2009    \n",
      "Epoch 4/20\n",
      "938418/938418 [==============================] - 48s - loss: 1.1970    \n",
      "Epoch 5/20\n",
      "938418/938418 [==============================] - 47s - loss: 1.1944    \n",
      "Epoch 6/20\n",
      "938418/938418 [==============================] - 45s - loss: 1.1929    \n",
      "Epoch 7/20\n",
      "938418/938418 [==============================] - 45s - loss: 1.1917    \n",
      "Epoch 8/20\n",
      "938418/938418 [==============================] - 46s - loss: 1.1906    \n",
      "Epoch 9/20\n",
      "938418/938418 [==============================] - 47s - loss: 1.1897    \n",
      "Epoch 10/20\n",
      "938418/938418 [==============================] - 48s - loss: 1.1891    \n",
      "Epoch 11/20\n",
      "938418/938418 [==============================] - 48s - loss: 1.1883    \n",
      "Epoch 12/20\n",
      "938418/938418 [==============================] - 47s - loss: 1.1876    \n",
      "Epoch 13/20\n",
      "938418/938418 [==============================] - 47s - loss: 1.1870    \n",
      "Epoch 14/20\n",
      "938418/938418 [==============================] - 47s - loss: 1.1866    \n",
      "Epoch 15/20\n",
      "938418/938418 [==============================] - 48s - loss: 1.1859    \n",
      "Epoch 16/20\n",
      "938418/938418 [==============================] - 47s - loss: 1.1853    \n",
      "Epoch 17/20\n",
      "938418/938418 [==============================] - 45s - loss: 1.1845    \n",
      "Epoch 18/20\n",
      "938418/938418 [==============================] - 44s - loss: 1.1841    \n",
      "Epoch 19/20\n",
      "938418/938418 [==============================] - 44s - loss: 1.1833    \n",
      "Epoch 20/20\n",
      "938418/938418 [==============================] - 44s - loss: 1.1826    \n"
     ]
    },
    {
     "data": {
      "text/plain": [
       "<keras.callbacks.History at 0x7f4898a024e0>"
      ]
     },
     "execution_count": 12,
     "metadata": {},
     "output_type": "execute_result"
    }
   ],
   "source": [
    "model.fit(X_train, y_train, nb_epoch=10, batch_size=512)"
   ]
  },
  {
   "cell_type": "code",
   "execution_count": 14,
   "metadata": {
    "collapsed": false,
    "scrolled": false
   },
   "outputs": [
    {
     "name": "stdout",
     "output_type": "stream",
     "text": [
      "187680/187684 [============================>.] - ETA: 0s"
     ]
    }
   ],
   "source": [
    "preds = np.round(model.predict_proba(X_test), 2)"
   ]
  },
  {
   "cell_type": "code",
   "execution_count": 15,
   "metadata": {
    "collapsed": false
   },
   "outputs": [
    {
     "name": "stdout",
     "output_type": "stream",
     "text": [
      "0.722341715572\n",
      "             precision    recall  f1-score   support\n",
      "\n",
      "          0       1.00      0.18      0.31        22\n",
      "          1       1.00      0.50      0.67         2\n",
      "          2       0.62      0.70      0.66    112198\n",
      "          3       1.00      0.10      0.19        68\n",
      "          4       0.97      0.08      0.15     14604\n",
      "          5       0.98      0.99      0.99      1519\n",
      "          6       0.97      0.30      0.45      1627\n",
      "          7       0.99      0.24      0.39     20459\n",
      "          8       0.99      0.36      0.52      6701\n",
      "          9       0.80      0.06      0.11        67\n",
      "         10       0.83      0.03      0.05       194\n",
      "         11       0.96      0.12      0.22      6126\n",
      "         12       0.97      0.27      0.42     15339\n",
      "         13       0.98      0.04      0.08      2962\n",
      "         14       0.98      0.07      0.13       910\n",
      "         15       1.00      0.15      0.27      1474\n",
      "         16       1.00      0.72      0.83       426\n",
      "         17       1.00      0.19      0.31      9156\n",
      "         18       0.69      0.03      0.06      6909\n",
      "         19       0.99      0.11      0.21      4271\n",
      "         20       1.00      0.17      0.29       599\n",
      "         21       0.00      0.00      0.00      9660\n",
      "         22       0.88      0.00      0.00     10532\n",
      "         23       0.92      0.04      0.08     22628\n",
      "\n",
      "avg / total       0.76      0.40      0.42    248453\n",
      "\n"
     ]
    },
    {
     "name": "stderr",
     "output_type": "stream",
     "text": [
      "/home/valentin/bin/anaconda3/envs/tensorflow/lib/python3.5/site-packages/sklearn/metrics/classification.py:1113: UndefinedMetricWarning: Precision and F-score are ill-defined and being set to 0.0 in labels with no predicted samples.\n",
      "  'precision', 'predicted', average, warn_for)\n"
     ]
    }
   ],
   "source": [
    "score = calculate_score(y_test, preds, X_test)\n",
    "print(score)\n",
    "print(metrics.classification_report(y_test, np.round(preds)))"
   ]
  },
  {
   "cell_type": "code",
   "execution_count": 81,
   "metadata": {
    "collapsed": false
   },
   "outputs": [],
   "source": [
    "fp = \"models/lstm_{0}_SCORE_{1}\".format(datetime.now().strftime(\"%Y-%m-%d %H:%M:%S\"), np.round(score,5)) \n",
    "model.save(fp)"
   ]
  },
  {
   "cell_type": "code",
   "execution_count": 13,
   "metadata": {
    "collapsed": true
   },
   "outputs": [],
   "source": [
    "fp = \"models/lstm_{0}\".format(datetime.now().strftime(\"%Y-%m-%d %H:%M:%S\")) \n",
    "model.save(fp)"
   ]
  }
 ],
 "metadata": {
  "anaconda-cloud": {},
  "kernelspec": {
   "display_name": "Python [conda env:tensorflow]",
   "language": "python",
   "name": "conda-env-tensorflow-py"
  },
  "language_info": {
   "codemirror_mode": {
    "name": "ipython",
    "version": 3
   },
   "file_extension": ".py",
   "mimetype": "text/x-python",
   "name": "python",
   "nbconvert_exporter": "python",
   "pygments_lexer": "ipython3",
   "version": "3.5.2"
  }
 },
 "nbformat": 4,
 "nbformat_minor": 1
}
