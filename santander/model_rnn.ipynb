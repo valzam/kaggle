{
 "cells": [
  {
   "cell_type": "code",
   "execution_count": 1,
   "metadata": {
    "collapsed": false
   },
   "outputs": [
    {
     "name": "stderr",
     "output_type": "stream",
     "text": [
      "Using TensorFlow backend.\n"
     ]
    }
   ],
   "source": [
    "%load_ext autoreload\n",
    "from keras.models import Sequential\n",
    "from keras.layers.recurrent import LSTM\n",
    "from keras.layers import Dense, Dropout\n",
    "from sklearn.model_selection import train_test_split\n",
    "from sklearn import metrics\n",
    "from datetime import datetime\n",
    "from src.average_precision import calculate_score\n",
    "import numpy as np\n",
    "import pickle\n",
    "from keras.preprocessing import sequence\n",
    "%autoreload 2\n",
    "from src.average_precision import calculate_delta\n",
    "import pandas as pd"
   ]
  },
  {
   "cell_type": "code",
   "execution_count": 35,
   "metadata": {
    "collapsed": false
   },
   "outputs": [],
   "source": [
    "X_train = np.array(pickle.load(open(\"data/rnn_datasets/X_train.pickle\", \"rb\")))\n",
    "y_train = np.array(pickle.load(open(\"data/rnn_datasets/y_train.pickle\", \"rb\")))"
   ]
  },
  {
   "cell_type": "code",
   "execution_count": 36,
   "metadata": {
    "collapsed": false
   },
   "outputs": [],
   "source": [
    "X_train, X_test, y_train, y_test = train_test_split(\n",
    "                                    X_train, y_train, test_size=0.20, random_state=42)"
   ]
  },
  {
   "cell_type": "code",
   "execution_count": 37,
   "metadata": {
    "collapsed": false
   },
   "outputs": [],
   "source": [
    "X_train = sequence.pad_sequences(X_train, maxlen=5)\n",
    "X_test = sequence.pad_sequences(X_test, maxlen=5)"
   ]
  },
  {
   "cell_type": "code",
   "execution_count": 39,
   "metadata": {
    "collapsed": false
   },
   "outputs": [],
   "source": [
    "model = Sequential()\n",
    "model.add(LSTM(256, input_shape=(X_train.shape[1], X_train.shape[2]), return_sequences=True))\n",
    "model.add(Dropout(0.2))\n",
    "model.add(LSTM(128, input_shape=(X_train.shape[1], X_train.shape[2])))\n",
    "model.add(Dropout(0.2))\n",
    "model.add(Dense(y_train.shape[1], activation=\"softmax\"))\n",
    "model.compile(loss=\"categorical_crossentropy\", optimizer=\"adam\")"
   ]
  },
  {
   "cell_type": "code",
   "execution_count": 41,
   "metadata": {
    "collapsed": false
   },
   "outputs": [
    {
     "name": "stdout",
     "output_type": "stream",
     "text": [
      "Epoch 1/10\n",
      "750734/750734 [==============================] - 16s - loss: 1.2818    \n",
      "Epoch 2/10\n",
      "750734/750734 [==============================] - 16s - loss: 1.2268    \n",
      "Epoch 3/10\n",
      "750734/750734 [==============================] - 17s - loss: 1.2108    \n",
      "Epoch 4/10\n",
      "750734/750734 [==============================] - 17s - loss: 1.2031    \n",
      "Epoch 5/10\n",
      "750734/750734 [==============================] - 18s - loss: 1.1988    \n",
      "Epoch 6/10\n",
      "750734/750734 [==============================] - 18s - loss: 1.1963    \n",
      "Epoch 7/10\n",
      "750734/750734 [==============================] - 18s - loss: 1.1946    \n",
      "Epoch 8/10\n",
      "750734/750734 [==============================] - 18s - loss: 1.1933    \n",
      "Epoch 9/10\n",
      "750734/750734 [==============================] - 18s - loss: 1.1924    \n",
      "Epoch 10/10\n",
      "750734/750734 [==============================] - 18s - loss: 1.1916    \n"
     ]
    },
    {
     "data": {
      "text/plain": [
       "<keras.callbacks.History at 0x7fc311ca3b00>"
      ]
     },
     "execution_count": 41,
     "metadata": {},
     "output_type": "execute_result"
    }
   ],
   "source": [
    "model.fit(X_train, y_train, nb_epoch=10, batch_size=512)"
   ]
  },
  {
   "cell_type": "code",
   "execution_count": 42,
   "metadata": {
    "collapsed": false,
    "scrolled": false
   },
   "outputs": [
    {
     "name": "stdout",
     "output_type": "stream",
     "text": [
      "187616/187684 [============================>.] - ETA: 0s"
     ]
    }
   ],
   "source": [
    "preds = np.round(model.predict_proba(X_test), 4)"
   ]
  },
  {
   "cell_type": "code",
   "execution_count": 43,
   "metadata": {
    "collapsed": false,
    "scrolled": true
   },
   "outputs": [
    {
     "name": "stdout",
     "output_type": "stream",
     "text": [
      "The LB score is: 0.7329862565768264\n"
     ]
    }
   ],
   "source": [
    "score = calculate_score(y_test, preds)\n",
    "print(\"The LB score is: {0}\".format(score))"
   ]
  },
  {
   "cell_type": "code",
   "execution_count": null,
   "metadata": {
    "collapsed": false
   },
   "outputs": [],
   "source": [
    "fp = \"models/lstm_{0}_SCORE_{1}\".format(datetime.now().strftime(\"%Y-%m-%d %H:%M:%S\"), np.round(score,5)) \n",
    "model.save(fp)"
   ]
  },
  {
   "cell_type": "code",
   "execution_count": null,
   "metadata": {
    "collapsed": false
   },
   "outputs": [],
   "source": [
    "model.summary()"
   ]
  }
 ],
 "metadata": {
  "anaconda-cloud": {},
  "kernelspec": {
   "display_name": "Python [conda env:tensorflow]",
   "language": "python",
   "name": "conda-env-tensorflow-py"
  },
  "language_info": {
   "codemirror_mode": {
    "name": "ipython",
    "version": 3
   },
   "file_extension": ".py",
   "mimetype": "text/x-python",
   "name": "python",
   "nbconvert_exporter": "python",
   "pygments_lexer": "ipython3",
   "version": "3.5.2"
  }
 },
 "nbformat": 4,
 "nbformat_minor": 1
}
